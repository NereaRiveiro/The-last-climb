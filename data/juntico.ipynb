{
 "cells": [
  {
   "cell_type": "code",
   "execution_count": null,
   "metadata": {},
   "outputs": [],
   "source": []
  },
  {
   "cell_type": "code",
   "execution_count": 78,
   "metadata": {},
   "outputs": [],
   "source": [
    "import pandas as pd"
   ]
  },
  {
   "cell_type": "code",
   "execution_count": 79,
   "metadata": {},
   "outputs": [
    {
     "data": {
      "text/html": [
       "<div>\n",
       "<style scoped>\n",
       "    .dataframe tbody tr th:only-of-type {\n",
       "        vertical-align: middle;\n",
       "    }\n",
       "\n",
       "    .dataframe tbody tr th {\n",
       "        vertical-align: top;\n",
       "    }\n",
       "\n",
       "    .dataframe thead th {\n",
       "        text-align: right;\n",
       "    }\n",
       "</style>\n",
       "<table border=\"1\" class=\"dataframe\">\n",
       "  <thead>\n",
       "    <tr style=\"text-align: right;\">\n",
       "      <th></th>\n",
       "      <th>Date</th>\n",
       "      <th>Name</th>\n",
       "      <th>Nationality</th>\n",
       "      <th>Cause of death</th>\n",
       "    </tr>\n",
       "  </thead>\n",
       "  <tbody>\n",
       "    <tr>\n",
       "      <th>0</th>\n",
       "      <td>3 May 2019</td>\n",
       "      <td>Wui Kin Chin</td>\n",
       "      <td>Malaysia</td>\n",
       "      <td>Hypothermia/Frostbite</td>\n",
       "    </tr>\n",
       "    <tr>\n",
       "      <th>1</th>\n",
       "      <td>24 March 2015</td>\n",
       "      <td>Samuli Mansikka</td>\n",
       "      <td>Finland</td>\n",
       "      <td>Fall</td>\n",
       "    </tr>\n",
       "    <tr>\n",
       "      <th>2</th>\n",
       "      <td>24 March 2015</td>\n",
       "      <td>Pemba Sherpa</td>\n",
       "      <td>Nepal</td>\n",
       "      <td>Fall</td>\n",
       "    </tr>\n",
       "    <tr>\n",
       "      <th>3</th>\n",
       "      <td>7 October 2012</td>\n",
       "      <td>Ivan Lobanov</td>\n",
       "      <td>Uzbekistan</td>\n",
       "      <td>Avalanche</td>\n",
       "    </tr>\n",
       "    <tr>\n",
       "      <th>4</th>\n",
       "      <td>7 October 2012</td>\n",
       "      <td>Iljas Tukhvatullin</td>\n",
       "      <td>Uzbekistan</td>\n",
       "      <td>Avalanche</td>\n",
       "    </tr>\n",
       "    <tr>\n",
       "      <th>...</th>\n",
       "      <td>...</td>\n",
       "      <td>...</td>\n",
       "      <td>...</td>\n",
       "      <td>...</td>\n",
       "    </tr>\n",
       "    <tr>\n",
       "      <th>68</th>\n",
       "      <td>18 May 1973</td>\n",
       "      <td>Sadatoshi Takahashi</td>\n",
       "      <td>Japan</td>\n",
       "      <td>Avalanche</td>\n",
       "    </tr>\n",
       "    <tr>\n",
       "      <th>69</th>\n",
       "      <td>18 May 1973</td>\n",
       "      <td>Masanori Hama</td>\n",
       "      <td>Japan</td>\n",
       "      <td>Avalanche</td>\n",
       "    </tr>\n",
       "    <tr>\n",
       "      <th>70</th>\n",
       "      <td>18 May 1973</td>\n",
       "      <td>Kazumi Katagiri</td>\n",
       "      <td>Japan</td>\n",
       "      <td>Avalanche</td>\n",
       "    </tr>\n",
       "    <tr>\n",
       "      <th>71</th>\n",
       "      <td>18 May 1973</td>\n",
       "      <td>Rinje</td>\n",
       "      <td>Nepal</td>\n",
       "      <td>Avalanche</td>\n",
       "    </tr>\n",
       "    <tr>\n",
       "      <th>72</th>\n",
       "      <td>30 May 1970</td>\n",
       "      <td>Ian Clough</td>\n",
       "      <td>United Kingdom</td>\n",
       "      <td>Serac fall</td>\n",
       "    </tr>\n",
       "  </tbody>\n",
       "</table>\n",
       "<p>73 rows × 4 columns</p>\n",
       "</div>"
      ],
      "text/plain": [
       "              Date                 Name     Nationality         Cause of death\n",
       "0       3 May 2019         Wui Kin Chin        Malaysia  Hypothermia/Frostbite\n",
       "1    24 March 2015      Samuli Mansikka         Finland                   Fall\n",
       "2    24 March 2015         Pemba Sherpa           Nepal                   Fall\n",
       "3   7 October 2012         Ivan Lobanov      Uzbekistan              Avalanche\n",
       "4   7 October 2012   Iljas Tukhvatullin      Uzbekistan              Avalanche\n",
       "..             ...                  ...             ...                    ...\n",
       "68     18 May 1973  Sadatoshi Takahashi           Japan              Avalanche\n",
       "69     18 May 1973        Masanori Hama           Japan              Avalanche\n",
       "70     18 May 1973      Kazumi Katagiri           Japan              Avalanche\n",
       "71     18 May 1973                Rinje           Nepal              Avalanche\n",
       "72     30 May 1970           Ian Clough  United Kingdom             Serac fall\n",
       "\n",
       "[73 rows x 4 columns]"
      ]
     },
     "execution_count": 79,
     "metadata": {},
     "output_type": "execute_result"
    }
   ],
   "source": [
    "anna = pd.read_csv('./archive/annapurna-I.csv')\n",
    "\n",
    "anna"
   ]
  },
  {
   "cell_type": "code",
   "execution_count": 80,
   "metadata": {},
   "outputs": [
    {
     "data": {
      "text/plain": [
       "Date              False\n",
       "Name              False\n",
       "Nationality       False\n",
       "Cause of death    False\n",
       "dtype: bool"
      ]
     },
     "execution_count": 80,
     "metadata": {},
     "output_type": "execute_result"
    }
   ],
   "source": [
    "anna.isnull().any()"
   ]
  },
  {
   "cell_type": "code",
   "execution_count": 81,
   "metadata": {},
   "outputs": [],
   "source": [
    "anna['top_id'] = 1"
   ]
  },
  {
   "cell_type": "code",
   "execution_count": 82,
   "metadata": {},
   "outputs": [],
   "source": [
    "bro = pd.read_csv('./archive/broad-peak.csv')\n",
    "bro['top_id'] = 2"
   ]
  },
  {
   "cell_type": "code",
   "execution_count": 83,
   "metadata": {},
   "outputs": [],
   "source": [
    "cho = pd.read_csv('./archive/cho-oyu.csv')\n",
    "cho['top_id'] = 3"
   ]
  },
  {
   "cell_type": "code",
   "execution_count": 84,
   "metadata": {},
   "outputs": [],
   "source": [
    "dha = pd.read_csv('./archive/dhaulagiri-I.csv')\n",
    "dha['top_id'] = 4"
   ]
  },
  {
   "cell_type": "code",
   "execution_count": 85,
   "metadata": {},
   "outputs": [],
   "source": [
    "eve = pd.read_csv('./archive/everest.csv')\n",
    "eve['top_id'] = 5"
   ]
  },
  {
   "cell_type": "code",
   "execution_count": 86,
   "metadata": {},
   "outputs": [],
   "source": [
    "gasi = pd.read_csv('./archive/gasherbrum-I.csv')\n",
    "gasi['top_id'] = 6"
   ]
  },
  {
   "cell_type": "code",
   "execution_count": 87,
   "metadata": {},
   "outputs": [],
   "source": [
    "gasii = pd.read_csv('./archive/gasherbrum-II.csv')\n",
    "gasii['top_id'] = 7"
   ]
  },
  {
   "cell_type": "code",
   "execution_count": 88,
   "metadata": {},
   "outputs": [],
   "source": [
    "k2 = pd.read_csv('./archive/k2.csv')\n",
    "k2['top_id'] = 8"
   ]
  },
  {
   "cell_type": "code",
   "execution_count": 89,
   "metadata": {},
   "outputs": [],
   "source": [
    "kan = pd.read_csv('./archive/kangchenjunga.csv')\n",
    "kan['top_id'] = 9"
   ]
  },
  {
   "cell_type": "code",
   "execution_count": 90,
   "metadata": {},
   "outputs": [],
   "source": [
    "ion = pd.read_csv('./archive/lhotse.csv')\n",
    "ion['top_id'] = 10"
   ]
  },
  {
   "cell_type": "code",
   "execution_count": 91,
   "metadata": {},
   "outputs": [
    {
     "data": {
      "text/html": [
       "<div>\n",
       "<style scoped>\n",
       "    .dataframe tbody tr th:only-of-type {\n",
       "        vertical-align: middle;\n",
       "    }\n",
       "\n",
       "    .dataframe tbody tr th {\n",
       "        vertical-align: top;\n",
       "    }\n",
       "\n",
       "    .dataframe thead th {\n",
       "        text-align: right;\n",
       "    }\n",
       "</style>\n",
       "<table border=\"1\" class=\"dataframe\">\n",
       "  <thead>\n",
       "    <tr style=\"text-align: right;\">\n",
       "      <th></th>\n",
       "      <th>index</th>\n",
       "      <th>Date</th>\n",
       "      <th>Name</th>\n",
       "      <th>Nationality</th>\n",
       "      <th>Cause of death</th>\n",
       "      <th>top_id</th>\n",
       "    </tr>\n",
       "  </thead>\n",
       "  <tbody>\n",
       "    <tr>\n",
       "      <th>0</th>\n",
       "      <td>0</td>\n",
       "      <td>3 May 2019</td>\n",
       "      <td>Wui Kin Chin</td>\n",
       "      <td>Malaysia</td>\n",
       "      <td>Hypothermia/Frostbite</td>\n",
       "      <td>1</td>\n",
       "    </tr>\n",
       "    <tr>\n",
       "      <th>1</th>\n",
       "      <td>1</td>\n",
       "      <td>24 March 2015</td>\n",
       "      <td>Samuli Mansikka</td>\n",
       "      <td>Finland</td>\n",
       "      <td>Fall</td>\n",
       "      <td>1</td>\n",
       "    </tr>\n",
       "    <tr>\n",
       "      <th>2</th>\n",
       "      <td>2</td>\n",
       "      <td>24 March 2015</td>\n",
       "      <td>Pemba Sherpa</td>\n",
       "      <td>Nepal</td>\n",
       "      <td>Fall</td>\n",
       "      <td>1</td>\n",
       "    </tr>\n",
       "    <tr>\n",
       "      <th>3</th>\n",
       "      <td>3</td>\n",
       "      <td>7 October 2012</td>\n",
       "      <td>Ivan Lobanov</td>\n",
       "      <td>Uzbekistan</td>\n",
       "      <td>Avalanche</td>\n",
       "      <td>1</td>\n",
       "    </tr>\n",
       "    <tr>\n",
       "      <th>4</th>\n",
       "      <td>4</td>\n",
       "      <td>7 October 2012</td>\n",
       "      <td>Iljas Tukhvatullin</td>\n",
       "      <td>Uzbekistan</td>\n",
       "      <td>Avalanche</td>\n",
       "      <td>1</td>\n",
       "    </tr>\n",
       "    <tr>\n",
       "      <th>...</th>\n",
       "      <td>...</td>\n",
       "      <td>...</td>\n",
       "      <td>...</td>\n",
       "      <td>...</td>\n",
       "      <td>...</td>\n",
       "      <td>...</td>\n",
       "    </tr>\n",
       "    <tr>\n",
       "      <th>1028</th>\n",
       "      <td>26</td>\n",
       "      <td>22 May 1991</td>\n",
       "      <td>Günther Semmler</td>\n",
       "      <td>Germany</td>\n",
       "      <td>Disappearance (probably avalanche)</td>\n",
       "      <td>14</td>\n",
       "    </tr>\n",
       "    <tr>\n",
       "      <th>1029</th>\n",
       "      <td>27</td>\n",
       "      <td>22 May 1991</td>\n",
       "      <td>Karl-Heinz Thiele</td>\n",
       "      <td>Germany</td>\n",
       "      <td>Disappearance (probably avalanche)</td>\n",
       "      <td>14</td>\n",
       "    </tr>\n",
       "    <tr>\n",
       "      <th>1030</th>\n",
       "      <td>28</td>\n",
       "      <td>15 October 1990</td>\n",
       "      <td>Joan Martinez</td>\n",
       "      <td>Spain</td>\n",
       "      <td>Exposure</td>\n",
       "      <td>14</td>\n",
       "    </tr>\n",
       "    <tr>\n",
       "      <th>1031</th>\n",
       "      <td>29</td>\n",
       "      <td>4 October 1989</td>\n",
       "      <td>Luca Leonardi</td>\n",
       "      <td>Switzerland</td>\n",
       "      <td>Avalanche</td>\n",
       "      <td>14</td>\n",
       "    </tr>\n",
       "    <tr>\n",
       "      <th>1032</th>\n",
       "      <td>30</td>\n",
       "      <td>28 April 1983</td>\n",
       "      <td>Fritz Luchsinger</td>\n",
       "      <td>Switzerland</td>\n",
       "      <td>Altitude sickness</td>\n",
       "      <td>14</td>\n",
       "    </tr>\n",
       "  </tbody>\n",
       "</table>\n",
       "<p>1033 rows × 6 columns</p>\n",
       "</div>"
      ],
      "text/plain": [
       "      index             Date                Name  Nationality   \n",
       "0         0       3 May 2019        Wui Kin Chin     Malaysia  \\\n",
       "1         1    24 March 2015     Samuli Mansikka      Finland   \n",
       "2         2    24 March 2015        Pemba Sherpa        Nepal   \n",
       "3         3   7 October 2012        Ivan Lobanov   Uzbekistan   \n",
       "4         4   7 October 2012  Iljas Tukhvatullin   Uzbekistan   \n",
       "...     ...              ...                 ...          ...   \n",
       "1028     26      22 May 1991     Günther Semmler      Germany   \n",
       "1029     27      22 May 1991   Karl-Heinz Thiele      Germany   \n",
       "1030     28  15 October 1990       Joan Martinez        Spain   \n",
       "1031     29   4 October 1989       Luca Leonardi  Switzerland   \n",
       "1032     30    28 April 1983    Fritz Luchsinger  Switzerland   \n",
       "\n",
       "                          Cause of death  top_id  \n",
       "0                  Hypothermia/Frostbite       1  \n",
       "1                                   Fall       1  \n",
       "2                                   Fall       1  \n",
       "3                              Avalanche       1  \n",
       "4                              Avalanche       1  \n",
       "...                                  ...     ...  \n",
       "1028  Disappearance (probably avalanche)      14  \n",
       "1029  Disappearance (probably avalanche)      14  \n",
       "1030                            Exposure      14  \n",
       "1031                           Avalanche      14  \n",
       "1032                   Altitude sickness      14  \n",
       "\n",
       "[1033 rows x 6 columns]"
      ]
     },
     "execution_count": 91,
     "metadata": {},
     "output_type": "execute_result"
    }
   ],
   "source": [
    "deads_table = [anna, bro, cho, dha, eve, gasi, gasii, k2, kan, ion, mak, man, nan, shi]\n",
    "deads = pd.concat(deads_table).reset_index()\n",
    "deads"
   ]
  },
  {
   "cell_type": "code",
   "execution_count": 92,
   "metadata": {},
   "outputs": [],
   "source": [
    "import re"
   ]
  },
  {
   "cell_type": "code",
   "execution_count": 93,
   "metadata": {},
   "outputs": [],
   "source": [
    "year = []\n",
    "\n",
    "for elem in deads['Date']:\n",
    "    years = re.search(r\"\\d{4}$\", elem)\n",
    "    if years:\n",
    "        year.append(years.group())\n",
    "    elif re.search(r\"\\d{4}\", elem):\n",
    "        year.append(re.search(r\"\\d{4}\", elem))\n",
    "    else:\n",
    "        year.append('')\n",
    "\n",
    "# year"
   ]
  },
  {
   "cell_type": "code",
   "execution_count": 94,
   "metadata": {},
   "outputs": [
    {
     "name": "stdout",
     "output_type": "stream",
     "text": [
      "<class 'pandas.core.frame.DataFrame'>\n",
      "RangeIndex: 1033 entries, 0 to 1032\n",
      "Data columns (total 6 columns):\n",
      " #   Column          Non-Null Count  Dtype \n",
      "---  ------          --------------  ----- \n",
      " 0   index           1033 non-null   int64 \n",
      " 1   Date            1033 non-null   object\n",
      " 2   Name            1033 non-null   object\n",
      " 3   Nationality     1033 non-null   object\n",
      " 4   Cause of death  1033 non-null   object\n",
      " 5   top_id          1033 non-null   int64 \n",
      "dtypes: int64(2), object(4)\n",
      "memory usage: 48.6+ KB\n"
     ]
    }
   ],
   "source": [
    "deads.info()"
   ]
  },
  {
   "cell_type": "code",
   "execution_count": 95,
   "metadata": {},
   "outputs": [],
   "source": [
    "deads['Year'] = year"
   ]
  },
  {
   "cell_type": "code",
   "execution_count": 96,
   "metadata": {},
   "outputs": [
    {
     "data": {
      "text/plain": [
       "Series([], Name: count, dtype: int64)"
      ]
     },
     "execution_count": 96,
     "metadata": {},
     "output_type": "execute_result"
    }
   ],
   "source": [
    "deads[deads['Year'] == ''].value_counts()"
   ]
  },
  {
   "cell_type": "code",
   "execution_count": 98,
   "metadata": {},
   "outputs": [
    {
     "data": {
      "text/plain": [
       "Date\n",
       "14 / 15 June 1937    16\n",
       "April 25, 2015       16\n",
       "April 18, 2014       15\n",
       "10 April 1972        15\n",
       "22 June 2013         11\n",
       "                     ..\n",
       "May 20, 2000          1\n",
       "May 21, 2000          1\n",
       "April 29, 2001        1\n",
       "May 23, 2001          1\n",
       "28 April 1983         1\n",
       "Name: count, Length: 670, dtype: int64"
      ]
     },
     "execution_count": 98,
     "metadata": {},
     "output_type": "execute_result"
    }
   ],
   "source": [
    "deads['Date'].value_counts()"
   ]
  },
  {
   "cell_type": "code",
   "execution_count": 99,
   "metadata": {},
   "outputs": [],
   "source": [
    "from datetime import datetime\n"
   ]
  },
  {
   "cell_type": "code",
   "execution_count": 100,
   "metadata": {},
   "outputs": [],
   "source": [
    "# fechas = [datetime.strptime(fecha_str, \"%d %B %Y\") for fecha_str in deads['Date']]\n",
    "# meses = [fecha.strftime(\"%B\") for fecha in fechas]\n",
    "# meses"
   ]
  },
  {
   "cell_type": "code",
   "execution_count": 101,
   "metadata": {},
   "outputs": [],
   "source": [
    "from dateutil.parser import parse"
   ]
  },
  {
   "cell_type": "code",
   "execution_count": 129,
   "metadata": {},
   "outputs": [],
   "source": [
    "deads.loc[deads['Date'] == 'Winter 1999', 'Date'] = 'feb 1999'\n",
    "deads.loc[deads['Date'] == 'Summer 1990', 'Date'] = 'jul 1999'\n",
    "deads.loc[deads['Date'] == 'May 31, 1934[note 2]', 'Date'] = 'May 31, 1934'\n",
    "deads.loc[deads['Date'] == '9–10 June 1977', 'Date'] = '9 June 1977'\n",
    "deads.loc[deads['Date'] == 'mid July 1982', 'Date'] = 'July 1982'\n",
    "deads.loc[deads['Date'] == 'late June 1975', 'Date'] = 'June 1975'\n",
    "deads.loc[deads['Date'] == '19 May 1996 or May 1997', 'Date'] = '19 May 1996'\n"
   ]
  },
  {
   "cell_type": "code",
   "execution_count": 121,
   "metadata": {},
   "outputs": [
    {
     "data": {
      "text/plain": [
       "Series([], Name: count, dtype: int64)"
      ]
     },
     "execution_count": 121,
     "metadata": {},
     "output_type": "execute_result"
    }
   ],
   "source": [
    "deads[deads['Date'] == 'May 31, 1934[note 2]'].value_counts()"
   ]
  },
  {
   "cell_type": "code",
   "execution_count": 132,
   "metadata": {},
   "outputs": [
    {
     "data": {
      "text/plain": [
       "Month\n",
       "5     307\n",
       "10    143\n",
       "4     137\n",
       "7     125\n",
       "9     115\n",
       "6      78\n",
       "8      66\n",
       "12     23\n",
       "3      18\n",
       "2      10\n",
       "1      10\n",
       "11      1\n",
       "Name: count, dtype: int64"
      ]
     },
     "execution_count": 132,
     "metadata": {},
     "output_type": "execute_result"
    }
   ],
   "source": [
    "fechas = [parse(fecha_str) for fecha_str in deads['Date']]\n",
    "meses = [fecha.month for fecha in fechas]\n",
    "deads['Month'] = meses\n",
    "deads['Month'].value_counts()\n"
   ]
  },
  {
   "cell_type": "code",
   "execution_count": 136,
   "metadata": {},
   "outputs": [],
   "source": [
    "# deads['Cause of death'].value_counts()"
   ]
  },
  {
   "cell_type": "code",
   "execution_count": 138,
   "metadata": {},
   "outputs": [],
   "source": [
    "deads.to_csv('deads.csv')"
   ]
  },
  {
   "cell_type": "code",
   "execution_count": 139,
   "metadata": {},
   "outputs": [
    {
     "data": {
      "text/html": [
       "<div>\n",
       "<style scoped>\n",
       "    .dataframe tbody tr th:only-of-type {\n",
       "        vertical-align: middle;\n",
       "    }\n",
       "\n",
       "    .dataframe tbody tr th {\n",
       "        vertical-align: top;\n",
       "    }\n",
       "\n",
       "    .dataframe thead th {\n",
       "        text-align: right;\n",
       "    }\n",
       "</style>\n",
       "<table border=\"1\" class=\"dataframe\">\n",
       "  <thead>\n",
       "    <tr style=\"text-align: right;\">\n",
       "      <th></th>\n",
       "      <th>id</th>\n",
       "      <th>Name</th>\n",
       "      <th>Latitude</th>\n",
       "      <th>Longitude</th>\n",
       "      <th>Altitude</th>\n",
       "    </tr>\n",
       "  </thead>\n",
       "  <tbody>\n",
       "    <tr>\n",
       "      <th>0</th>\n",
       "      <td>1</td>\n",
       "      <td>Annapurna</td>\n",
       "      <td>28.583300</td>\n",
       "      <td>83.950000</td>\n",
       "      <td>8091</td>\n",
       "    </tr>\n",
       "    <tr>\n",
       "      <th>1</th>\n",
       "      <td>2</td>\n",
       "      <td>Broad Peak</td>\n",
       "      <td>35.814270</td>\n",
       "      <td>76.566110</td>\n",
       "      <td>8051</td>\n",
       "    </tr>\n",
       "    <tr>\n",
       "      <th>2</th>\n",
       "      <td>3</td>\n",
       "      <td>Cho Oyu</td>\n",
       "      <td>28.096750</td>\n",
       "      <td>86.659630</td>\n",
       "      <td>8188</td>\n",
       "    </tr>\n",
       "    <tr>\n",
       "      <th>3</th>\n",
       "      <td>4</td>\n",
       "      <td>Dhaulagiri</td>\n",
       "      <td>28.697609</td>\n",
       "      <td>83.489488</td>\n",
       "      <td>8167</td>\n",
       "    </tr>\n",
       "    <tr>\n",
       "      <th>4</th>\n",
       "      <td>5</td>\n",
       "      <td>Everest</td>\n",
       "      <td>27.987850</td>\n",
       "      <td>86.925026</td>\n",
       "      <td>8849</td>\n",
       "    </tr>\n",
       "    <tr>\n",
       "      <th>5</th>\n",
       "      <td>6</td>\n",
       "      <td>Gasherbrum I</td>\n",
       "      <td>35.724430</td>\n",
       "      <td>76.696410</td>\n",
       "      <td>8080</td>\n",
       "    </tr>\n",
       "    <tr>\n",
       "      <th>6</th>\n",
       "      <td>7</td>\n",
       "      <td>Gasherbrum II</td>\n",
       "      <td>35.758331</td>\n",
       "      <td>76.653336</td>\n",
       "      <td>8035</td>\n",
       "    </tr>\n",
       "    <tr>\n",
       "      <th>7</th>\n",
       "      <td>8</td>\n",
       "      <td>K2</td>\n",
       "      <td>35.883333</td>\n",
       "      <td>76.513340</td>\n",
       "      <td>8611</td>\n",
       "    </tr>\n",
       "    <tr>\n",
       "      <th>8</th>\n",
       "      <td>9</td>\n",
       "      <td>Kangchenjunga</td>\n",
       "      <td>27.703140</td>\n",
       "      <td>88.147390</td>\n",
       "      <td>8586</td>\n",
       "    </tr>\n",
       "    <tr>\n",
       "      <th>9</th>\n",
       "      <td>10</td>\n",
       "      <td>Ihotse</td>\n",
       "      <td>27.966667</td>\n",
       "      <td>86.933333</td>\n",
       "      <td>8516</td>\n",
       "    </tr>\n",
       "    <tr>\n",
       "      <th>10</th>\n",
       "      <td>11</td>\n",
       "      <td>Makalu</td>\n",
       "      <td>27.889880</td>\n",
       "      <td>87.089440</td>\n",
       "      <td>8481</td>\n",
       "    </tr>\n",
       "    <tr>\n",
       "      <th>11</th>\n",
       "      <td>12</td>\n",
       "      <td>Manaslu</td>\n",
       "      <td>28.549980</td>\n",
       "      <td>84.559730</td>\n",
       "      <td>8163</td>\n",
       "    </tr>\n",
       "    <tr>\n",
       "      <th>12</th>\n",
       "      <td>13</td>\n",
       "      <td>Nanga Parbat</td>\n",
       "      <td>31.650500</td>\n",
       "      <td>-21.788590</td>\n",
       "      <td>8126</td>\n",
       "    </tr>\n",
       "    <tr>\n",
       "      <th>13</th>\n",
       "      <td>14</td>\n",
       "      <td>Shishapangma</td>\n",
       "      <td>28.352246</td>\n",
       "      <td>85.779566</td>\n",
       "      <td>8027</td>\n",
       "    </tr>\n",
       "  </tbody>\n",
       "</table>\n",
       "</div>"
      ],
      "text/plain": [
       "    id           Name   Latitude  Longitude  Altitude\n",
       "0    1      Annapurna  28.583300  83.950000      8091\n",
       "1    2     Broad Peak  35.814270  76.566110      8051\n",
       "2    3        Cho Oyu  28.096750  86.659630      8188\n",
       "3    4     Dhaulagiri  28.697609  83.489488      8167\n",
       "4    5        Everest  27.987850  86.925026      8849\n",
       "5    6   Gasherbrum I  35.724430  76.696410      8080\n",
       "6    7  Gasherbrum II  35.758331  76.653336      8035\n",
       "7    8             K2  35.883333  76.513340      8611\n",
       "8    9  Kangchenjunga  27.703140  88.147390      8586\n",
       "9   10         Ihotse  27.966667  86.933333      8516\n",
       "10  11         Makalu  27.889880  87.089440      8481\n",
       "11  12        Manaslu  28.549980  84.559730      8163\n",
       "12  13   Nanga Parbat  31.650500 -21.788590      8126\n",
       "13  14   Shishapangma  28.352246  85.779566      8027"
      ]
     },
     "execution_count": 139,
     "metadata": {},
     "output_type": "execute_result"
    }
   ],
   "source": [
    "top = pd.read_csv('./archive/tops.txt')\n",
    "top"
   ]
  },
  {
   "cell_type": "code",
   "execution_count": null,
   "metadata": {},
   "outputs": [],
   "source": []
  }
 ],
 "metadata": {
  "kernelspec": {
   "display_name": "Python 3",
   "language": "python",
   "name": "python3"
  },
  "language_info": {
   "codemirror_mode": {
    "name": "ipython",
    "version": 3
   },
   "file_extension": ".py",
   "mimetype": "text/x-python",
   "name": "python",
   "nbconvert_exporter": "python",
   "pygments_lexer": "ipython3",
   "version": "3.11.3"
  },
  "orig_nbformat": 4
 },
 "nbformat": 4,
 "nbformat_minor": 2
}
